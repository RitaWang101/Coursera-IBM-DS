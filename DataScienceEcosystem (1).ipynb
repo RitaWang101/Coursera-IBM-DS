{
 "cells": [
  {
   "cell_type": "markdown",
   "id": "ae745545-2f81-407a-a485-996f24fa722a",
   "metadata": {},
   "source": [
    "# Data Science Tools and Ecosystem "
   ]
  },
  {
   "cell_type": "markdown",
   "id": "257cd3a6-bf7c-4ef5-ad9f-9a7e70fb2cf2",
   "metadata": {},
   "source": [
    "### In this notebook, Data Science Tools and Ecosystem are summarized "
   ]
  },
  {
   "cell_type": "markdown",
   "id": "f423ad15-0c8b-4fd6-8b15-b0ba76210a4e",
   "metadata": {},
   "source": [
    "**Objectives:**\n",
    "\n",
    "- List popular languages for Data Science  \n",
    "- Identify commonly used libraries by Data Scientists  \n",
    "- Describe open-source tools used in Data Science  \n",
    "- Demonstrate evaluating arithmetic expressions in Python  \n",
    "- Introduce development environments for Data Science"
   ]
  },
  {
   "cell_type": "markdown",
   "id": "6e225f34-4cb8-46e1-8442-dfcb314df862",
   "metadata": {},
   "source": [
    "Some of the popular languages that Data Scientists use are:\n",
    "1. python \n",
    "2. sql\n",
    "3. r studio "
   ]
  },
  {
   "cell_type": "markdown",
   "id": "c3a29714-5fb8-4cf3-b45b-adcdcffbbfb6",
   "metadata": {},
   "source": [
    "Some of the commonly used libraries used by Data Scientists include:\n",
    "1. ggplot \n",
    "2. tidyverse\n",
    "3. caret"
   ]
  },
  {
   "cell_type": "markdown",
   "id": "8f0941c9-f9b4-458d-8635-c148d9901fad",
   "metadata": {},
   "source": [
    "Data Science Tools \n",
    "- Jupiter Notebook\n",
    "- VS CODE\n",
    "- RStudio\n"
   ]
  },
  {
   "cell_type": "markdown",
   "id": "7c921d37-01f5-4190-b598-aff4d5f0a36a",
   "metadata": {},
   "source": [
    "### Below are a few examples of evaluating arithmetic expressions in Python: \n",
    "1.  `3 + 5` → **8**  \n",
    "2. `10 - 2` → **8**  \n",
    "3. `4 * 2` → **8**    "
   ]
  },
  {
   "cell_type": "code",
   "execution_count": 25,
   "id": "ca304c67-7262-4670-bc51-13a5b2150dcb",
   "metadata": {},
   "outputs": [
    {
     "data": {
      "text/plain": [
       "17"
      ]
     },
     "execution_count": 25,
     "metadata": {},
     "output_type": "execute_result"
    }
   ],
   "source": [
    "#This a simple arithmetic expression to mutiply then add integers \n",
    "(3*4)+5"
   ]
  },
  {
   "cell_type": "code",
   "execution_count": 27,
   "id": "2cec9083-5140-47bf-bc43-9d705ae4b2cd",
   "metadata": {},
   "outputs": [
    {
     "data": {
      "text/plain": [
       "3.3333333333333335"
      ]
     },
     "execution_count": 27,
     "metadata": {},
     "output_type": "execute_result"
    }
   ],
   "source": [
    "#This will convert 200 minutes to hours by diving by 60\n",
    "200/60"
   ]
  },
  {
   "cell_type": "markdown",
   "id": "6d0af765-e329-4264-9e86-a59a92e494bc",
   "metadata": {},
   "source": [
    "## Author \n",
    "Ruiqi Wang"
   ]
  },
  {
   "cell_type": "code",
   "execution_count": null,
   "id": "6e913396-ecaf-4f7f-9978-24a056bbf4a9",
   "metadata": {},
   "outputs": [],
   "source": []
  }
 ],
 "metadata": {
  "kernelspec": {
   "display_name": "Python 3 (ipykernel)",
   "language": "python",
   "name": "python3"
  },
  "language_info": {
   "codemirror_mode": {
    "name": "ipython",
    "version": 3
   },
   "file_extension": ".py",
   "mimetype": "text/x-python",
   "name": "python",
   "nbconvert_exporter": "python",
   "pygments_lexer": "ipython3",
   "version": "3.12.4"
  }
 },
 "nbformat": 4,
 "nbformat_minor": 5
}
